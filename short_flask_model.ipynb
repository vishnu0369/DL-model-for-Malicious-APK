{
  "nbformat": 4,
  "nbformat_minor": 0,
  "metadata": {
    "colab": {
      "provenance": []
    },
    "kernelspec": {
      "name": "python3",
      "display_name": "Python 3"
    },
    "language_info": {
      "name": "python"
    }
  },
  "cells": [
    {
      "cell_type": "code",
      "execution_count": null,
      "metadata": {
        "id": "eRJqv5tphMEz"
      },
      "outputs": [],
      "source": [
        "# !pip install androguard"
      ]
    },
    {
      "cell_type": "code",
      "source": [
        "perms = ['android.permission.ACCESS_CACHE_FILESYSTEM',\n",
        "       'android.permission.ACCESS_COARSE_LOCATION',\n",
        "       'android.permission.ACCESS_FINE_LOCATION',\n",
        "       'android.permission.ACCESS_LOCATION_EXTRA_COMMANDS',\n",
        "       'android.permission.ACCESS_MOCK_LOCATION',\n",
        "       'android.permission.ACCESS_NETWORK_STATE',\n",
        "       'android.permission.ACCESS_WIFI_STATE',\n",
        "       'android.permission.ACCESS_WIMAX_STATE',\n",
        "       'android.permission.AUTHENTICATE_ACCOUNTS',\n",
        "       'android.permission.BATTERY_STATS', 'android.permission.BLUETOOTH',\n",
        "       'android.permission.BROADCAST_PACKAGE_REMOVED',\n",
        "       'android.permission.BROADCAST_STICKY', 'android.permission.CALL_PHONE',\n",
        "       'android.permission.CALL_PRIVILEGED', 'android.permission.CAMERA',\n",
        "       'android.permission.CHANGE_COMPONENT_ENABLED_STATE',\n",
        "       'android.permission.CHANGE_CONFIGURATION',\n",
        "       'android.permission.CHANGE_NETWORK_STATE',\n",
        "       'android.permission.CHANGE_WIFI_MULTICAST_STATE',\n",
        "       'android.permission.CHANGE_WIFI_STATE',\n",
        "       'android.permission.CLEAR_APP_CACHE',\n",
        "       'android.permission.DELETE_PACKAGES', 'android.permission.DEVICE_POWER',\n",
        "       'android.permission.DISABLE_KEYGUARD', 'android.permission.DUMP',\n",
        "       'android.permission.EXPAND_STATUS_BAR',\n",
        "       'android.permission.GET_ACCOUNTS',\n",
        "       'android.permission.GET_PACKAGE_SIZE', 'android.permission.GET_TASKS',\n",
        "       'android.permission.INJECT_EVENTS',\n",
        "       'android.permission.INSTALL_PACKAGES', 'android.permission.INTERNET',\n",
        "       'android.permission.KILL_BACKGROUND_PROCESSES',\n",
        "       'android.permission.MANAGE_ACCOUNTS',\n",
        "       'android.permission.MODIFY_AUDIO_SETTINGS',\n",
        "       'android.permission.MOUNT_UNMOUNT_FILESYSTEMS',\n",
        "       'android.permission.NFC', 'android.permission.PROCESS_OUTGOING_CALLS',\n",
        "       'android.permission.READ_CALENDAR', 'android.permission.READ_CALL_LOG',\n",
        "       'android.permission.READ_LOGS', 'android.permission.READ_PHONE_STATE',\n",
        "       'android.permission.READ_SMS',\n",
        "       'android.permission.RECEIVE_BOOT_COMPLETED',\n",
        "       'android.permission.RECORD_AUDIO', 'android.permission.SET_ORIENTATION',\n",
        "       'android.permission.SET_PREFERRED_APPLICATIONS',\n",
        "       'android.permission.SET_WALLPAPER',\n",
        "       'android.permission.SYSTEM_ALERT_WINDOW', 'android.permission.VIBRATE',\n",
        "       'android.permission.WAKE_LOCK',\n",
        "       'android.permission.WRITE_EXTERNAL_STORAGE',\n",
        "       'android.permission.WRITE_SETTINGS',\n",
        "       'com.android.alarm.permission.SET_ALARM',\n",
        "       'com.android.browser.permission.READ_HISTORY_BOOKMARKS',\n",
        "       'com.android.launcher.permission.INSTALL_SHORTCUT',\n",
        "       'com.android.launcher.permission.UNINSTALL_SHORTCUT']"
      ],
      "metadata": {
        "id": "0UfifJJEiMei"
      },
      "execution_count": null,
      "outputs": []
    },
    {
      "cell_type": "code",
      "source": [
        "from androguard.core.bytecodes.apk import APK\n",
        "result = []\n",
        "\n",
        "def predict(apk):\n",
        "  vector = {}\n",
        "  a = APK(apk)\n",
        "  perm = a.get_permissions()\n",
        "  print(perm)\n",
        "  for d in perms:\n",
        "    if d in perm:\n",
        "      vector[d]=1\n",
        "      result.append(1)\n",
        "    else:\n",
        "      vector[d]=0\n",
        "      result.append(0)\n",
        "  input = [ v for v in vector.values() ]\n",
        "  return input\n",
        "  # print(grid.predict([input]))\n",
        "\n",
        "inputarray = predict('/content/WhatsApp.apk')"
      ],
      "metadata": {
        "colab": {
          "base_uri": "https://localhost:8080/"
        },
        "id": "-3C3AWE2hZR7",
        "outputId": "264f756c-4379-4c2f-b147-f9c4c5c80eb5"
      },
      "execution_count": null,
      "outputs": [
        {
          "output_type": "stream",
          "name": "stderr",
          "text": [
            "WARNING:androguard.core.api_specific_resources:Requested API level 31 is larger than maximum we have, returning API level 28 instead.\n"
          ]
        },
        {
          "output_type": "stream",
          "name": "stdout",
          "text": [
            "['android.permission.READ_PROFILE', 'android.permission.RECEIVE_BOOT_COMPLETED', 'android.permission.CHANGE_NETWORK_STATE', 'android.permission.READ_CONTACTS', 'com.whatsapp.sticker.READ', 'com.sonyericsson.home.permission.BROADCAST_BADGE', 'android.permission.MANAGE_ACCOUNTS', 'android.permission.AUTHENTICATE_ACCOUNTS', 'android.permission.CAMERA', 'com.sec.android.provider.badge.permission.READ', 'com.google.android.finsky.permission.BIND_GET_INSTALL_REFERRER_SERVICE', 'android.permission.GET_ACCOUNTS', 'com.sonymobile.home.permission.PROVIDER_INSERT_BADGE', 'android.permission.WAKE_LOCK', 'android.permission.ACCESS_COARSE_LOCATION', 'com.huawei.android.launcher.permission.CHANGE_BADGE', 'android.permission.SCHEDULE_EXACT_ALARM', 'android.permission.READ_MEDIA_AUDIO', 'com.facebook.services.identity.FEO2', 'com.whatsapp.permission.MAPS_RECEIVE', 'android.permission.RECEIVE_SMS', 'android.permission.READ_EXTERNAL_STORAGE', 'android.permission.VIBRATE', 'com.htc.launcher.permission.UPDATE_SHORTCUT', 'android.permission.READ_PHONE_NUMBERS', 'android.permission.READ_PHONE_STATE', 'android.permission.GET_TASKS', 'android.permission.NFC', 'android.permission.ACCESS_FINE_LOCATION', 'android.permission.INSTALL_SHORTCUT', 'com.whatsapp.permission.REGISTRATION', 'android.permission.FOREGROUND_SERVICE', 'com.android.launcher.permission.INSTALL_SHORTCUT', 'android.permission.ACCESS_NETWORK_STATE', 'com.google.android.providers.gsf.permission.READ_GSERVICES', 'android.permission.WRITE_EXTERNAL_STORAGE', 'android.permission.BLUETOOTH', 'android.permission.SEND_SMS', 'com.google.android.c2dm.permission.RECEIVE', 'android.permission.USE_FULL_SCREEN_INTENT', 'com.htc.launcher.permission.READ_SETTINGS', 'android.permission.USE_CREDENTIALS', 'com.huawei.android.launcher.permission.READ_SETTINGS', 'android.permission.ACCESS_WIFI_STATE', 'android.permission.WRITE_CONTACTS', 'android.permission.INTERNET', 'android.permission.REQUEST_INSTALL_PACKAGES', 'com.sec.android.provider.badge.permission.WRITE', 'android.permission.WRITE_SYNC_SETTINGS', 'com.android.launcher.permission.UNINSTALL_SHORTCUT', 'android.permission.USE_BIOMETRIC', 'com.whatsapp.permission.BROADCAST', 'com.huawei.android.launcher.permission.WRITE_SETTINGS', 'android.permission.READ_SYNC_SETTINGS', 'android.permission.BROADCAST_STICKY', 'android.permission.CHANGE_WIFI_STATE', 'android.permission.RECORD_AUDIO', 'android.permission.MANAGE_OWN_CALLS', 'android.permission.MODIFY_AUDIO_SETTINGS', 'android.permission.READ_SYNC_STATS', 'android.permission.READ_MEDIA_IMAGES', 'android.permission.USE_FINGERPRINT', 'android.permission.READ_MEDIA_VIDEO']\n"
          ]
        }
      ]
    },
    {
      "cell_type": "code",
      "source": [],
      "metadata": {
        "id": "PzccFtH6r1L2"
      },
      "execution_count": null,
      "outputs": []
    },
    {
      "cell_type": "code",
      "source": [
        "import pandas as pd\n",
        "import numpy as np"
      ],
      "metadata": {
        "id": "Ev6sD-IBmDh_"
      },
      "execution_count": null,
      "outputs": []
    },
    {
      "cell_type": "code",
      "source": [
        "dt=pd.read_csv('/content/training .csv')"
      ],
      "metadata": {
        "id": "JlRH3j07mx0X"
      },
      "execution_count": null,
      "outputs": []
    },
    {
      "cell_type": "code",
      "source": [
        "cols = {}\n",
        "for name in dt.columns:\n",
        "        if name[0] is ' ':\n",
        "            cols[name] = name[1:]\n",
        "dt.rename(cols, axis=1, inplace=True, errors='raise')"
      ],
      "metadata": {
        "id": "h1dfaXoPm-yH"
      },
      "execution_count": null,
      "outputs": []
    },
    {
      "cell_type": "code",
      "source": [
        "cols_to_keep = ['android.permission.ACCESS_CACHE_FILESYSTEM',\n",
        " 'android.permission.ACCESS_COARSE_LOCATION',\n",
        " 'android.permission.ACCESS_DOWNLOAD_MANAGER',\n",
        " 'android.permission.ACCESS_DOWNLOAD_MANAGER_ADVANCED',\n",
        " 'android.permission.ACCESS_FINE_LOCATION',\n",
        " 'android.permission.ACCESS_LOCATION_EXTRA_COMMANDS',\n",
        " 'android.permission.ACCESS_MOCK_LOCATION',\n",
        " 'android.permission.ACCESS_NETWORK_STATE',\n",
        " 'android.permission.ACCESS_WIFI_STATE',\n",
        " 'android.permission.ACCESS_WIMAX_STATE',\n",
        " 'android.permission.AUTHENTICATE_ACCOUNTS',\n",
        " 'android.permission.BATTERY_STATS',\n",
        " 'android.permission.BLUETOOTH',\n",
        " 'android.permission.BLUETOOTH_ADMIN',\n",
        " 'android.permission.BROADCAST_PACKAGE_REMOVED',\n",
        " 'android.permission.BROADCAST_STICKY',\n",
        " 'android.permission.CALL_PHONE',\n",
        " 'android.permission.CALL_PRIVILEGED',\n",
        " 'android.permission.CAMERA',\n",
        " 'android.permission.CHANGE_COMPONENT_ENABLED_STATE',\n",
        " 'android.permission.CHANGE_CONFIGURATION',\n",
        " 'android.permission.CHANGE_NETWORK_STATE',\n",
        " 'android.permission.CHANGE_WIFI_MULTICAST_STATE',\n",
        " 'android.permission.CHANGE_WIFI_STATE',\n",
        " 'android.permission.CHANGE_WIMAX_STATE',\n",
        " 'android.permission.CLEAR_APP_CACHE',\n",
        " 'android.permission.DELETE_CACHE_FILES',\n",
        " 'android.permission.DELETE_PACKAGES',\n",
        " 'android.permission.DEVICE_POWER',\n",
        " 'android.permission.DISABLE_KEYGUARD',\n",
        " 'android.permission.DUMP',\n",
        " 'android.permission.EXPAND_STATUS_BAR',\n",
        " 'android.permission.FLASHLIGHT',\n",
        " 'android.permission.GET_ACCOUNTS',\n",
        " 'android.permission.GET_PACKAGE_SIZE',\n",
        " 'android.permission.GET_TASKS',\n",
        " 'android.permission.GLOBAL_SEARCH_CONTROL',\n",
        " 'android.permission.HARDWARE_TEST',\n",
        " 'android.permission.INJECT_EVENTS',\n",
        " 'android.permission.INSTALL_PACKAGES',\n",
        " 'android.permission.INTERNET',\n",
        " 'android.permission.KILL_BACKGROUND_PROCESSES',\n",
        " 'android.permission.MANAGE_ACCOUNTS',\n",
        " 'android.permission.MODIFY_AUDIO_SETTINGS',\n",
        " 'android.permission.MODIFY_PHONE_STATE',\n",
        " 'android.permission.MOUNT_UNMOUNT_FILESYSTEMS',\n",
        " 'android.permission.NFC',\n",
        " 'android.permission.PERSISTENT_ACTIVITY',\n",
        " 'android.permission.PROCESS_OUTGOING_CALLS',\n",
        " 'android.permission.READ_CALENDAR',\n",
        " 'android.permission.READ_CALL_LOG',\n",
        " 'android.permission.READ_CONTACTS',\n",
        " 'android.permission.READ_EXTERNAL_STORAGE',\n",
        " 'android.permission.READ_LOGS',\n",
        " 'android.permission.READ_PHONE_STATE',\n",
        " 'android.permission.READ_SMS',\n",
        " 'android.permission.READ_SYNC_SETTINGS',\n",
        " 'android.permission.READ_SYNC_STATS',\n",
        " 'android.permission.REBOOT',\n",
        " 'android.permission.RECEIVE_BOOT_COMPLETED',\n",
        " 'android.permission.RECEIVE_MMS',\n",
        " 'android.permission.RECEIVE_SMS',\n",
        " 'android.permission.RECEIVE_WAP_PUSH',\n",
        " 'android.permission.RECORD_AUDIO',\n",
        " 'android.permission.RESTART_PACKAGES',\n",
        " 'android.permission.SEND_DOWNLOAD_COMPLETED_INTENTS',\n",
        " 'android.permission.SEND_SMS',\n",
        " 'android.permission.SET_ORIENTATION',\n",
        " 'android.permission.SET_PREFERRED_APPLICATIONS',\n",
        " 'android.permission.SET_WALLPAPER',\n",
        " 'android.permission.SET_WALLPAPER_HINTS',\n",
        " 'android.permission.SYSTEM_ALERT_WINDOW',\n",
        " 'android.permission.UPDATE_DEVICE_STATS',\n",
        " 'android.permission.USE_CREDENTIALS',\n",
        " 'android.permission.VIBRATE',\n",
        " 'android.permission.WAKE_LOCK',\n",
        " 'android.permission.WRITE_APN_SETTINGS',\n",
        " 'android.permission.WRITE_CALENDAR',\n",
        " 'android.permission.WRITE_CALL_LOG',\n",
        " 'android.permission.WRITE_CONTACTS',\n",
        " 'android.permission.WRITE_EXTERNAL_STORAGE',\n",
        " 'android.permission.WRITE_SECURE_SETTINGS',\n",
        " 'android.permission.WRITE_SETTINGS',\n",
        " 'android.permission.WRITE_SMS',\n",
        " 'android.permission.WRITE_SYNC_SETTINGS',\n",
        " 'com.android.alarm.permission.SET_ALARM',\n",
        " 'com.android.browser.permission.READ_HISTORY_BOOKMARKS',\n",
        " 'com.android.browser.permission.WRITE_HISTORY_BOOKMARKS',\n",
        " 'com.android.launcher.permission.INSTALL_SHORTCUT',\n",
        " 'com.android.launcher.permission.READ_SETTINGS',\n",
        " 'com.android.launcher.permission.UNINSTALL_SHORTCUT',\n",
        " 'com.android.launcher.permission.WRITE_SETTINGS',\n",
        " 'type']"
      ],
      "metadata": {
        "id": "XiqfNhlHnH9n"
      },
      "execution_count": null,
      "outputs": []
    },
    {
      "cell_type": "code",
      "source": [
        "dt.drop(columns=[col for col in dt.columns if col not in cols_to_keep], inplace=True, errors='raise') \n",
        "dt.dropna(inplace=True)"
      ],
      "metadata": {
        "id": "411BprWanQlv"
      },
      "execution_count": null,
      "outputs": []
    },
    {
      "cell_type": "code",
      "source": [
        "dt.isna().any()\n",
        "dt.isna().sum()"
      ],
      "metadata": {
        "colab": {
          "base_uri": "https://localhost:8080/"
        },
        "id": "6nvCwzxWnSt_",
        "outputId": "a6b49285-0a20-480f-8ee4-55935797dba2"
      },
      "execution_count": null,
      "outputs": [
        {
          "output_type": "execute_result",
          "data": {
            "text/plain": [
              "android.permission.ACCESS_CACHE_FILESYSTEM             0\n",
              "android.permission.ACCESS_COARSE_LOCATION              0\n",
              "android.permission.ACCESS_DOWNLOAD_MANAGER             0\n",
              "android.permission.ACCESS_DOWNLOAD_MANAGER_ADVANCED    0\n",
              "android.permission.ACCESS_FINE_LOCATION                0\n",
              "                                                      ..\n",
              "com.android.launcher.permission.INSTALL_SHORTCUT       0\n",
              "com.android.launcher.permission.READ_SETTINGS          0\n",
              "com.android.launcher.permission.UNINSTALL_SHORTCUT     0\n",
              "com.android.launcher.permission.WRITE_SETTINGS         0\n",
              "type                                                   0\n",
              "Length: 93, dtype: int64"
            ]
          },
          "metadata": {},
          "execution_count": 128
        }
      ]
    },
    {
      "cell_type": "code",
      "source": [
        "from keras.models import Sequential, Model #sequential to arrange the layers in sequential order\n",
        "                                           #model to access the model's information\n",
        "from keras.layers import Dense, Dropout, Activation\n",
        "from sklearn.model_selection import train_test_split\n",
        "import tensorflow\n",
        "import numpy as np\n",
        "from sklearn.preprocessing import LabelEncoder#Encode target labels with value between 0 and n_classes-1."
      ],
      "metadata": {
        "id": "hTMnqtvXnVgU"
      },
      "execution_count": null,
      "outputs": []
    },
    {
      "cell_type": "code",
      "source": [
        "Y = dt['type']\n",
        "#print(Y)\n",
        "X = dt.drop(['type'], axis=1)\n",
        "encoder = LabelEncoder().fit(Y)\n",
        "Y = encoder.transform(Y)\n",
        "\n",
        "X_train, X_test, y_train, y_test = train_test_split(X, Y, test_size=0.25,random_state=42)"
      ],
      "metadata": {
        "id": "XLv_Fa1gnX2_"
      },
      "execution_count": null,
      "outputs": []
    },
    {
      "cell_type": "code",
      "source": [
        "def correlation(dataset, threshold):\n",
        "    col_corr = set()  # Set of all the names of correlated columns\n",
        "    corr_matrix = dataset.corr()\n",
        "    for i in range(len(corr_matrix.columns)):\n",
        "        for j in range(i):\n",
        "            if abs(corr_matrix.iloc[i, j]) > threshold: # we are interested in absolute coeff value\n",
        "                colname = corr_matrix.columns[i]  # getting the name of column\n",
        "                col_corr.add(colname)\n",
        "    return col_corr"
      ],
      "metadata": {
        "id": "96QyrRaanbRo"
      },
      "execution_count": null,
      "outputs": []
    },
    {
      "cell_type": "code",
      "source": [
        "corr_features = correlation(X_train, 0.7)"
      ],
      "metadata": {
        "id": "NehRk_zwoXGv"
      },
      "execution_count": null,
      "outputs": []
    },
    {
      "cell_type": "code",
      "source": [
        "print(X_train.shape)\n",
        "X_train.drop(corr_features,axis=1,inplace=True)\n",
        "X_test.drop(corr_features,axis=1,inplace=True)\n",
        "print(X_train.shape)"
      ],
      "metadata": {
        "colab": {
          "base_uri": "https://localhost:8080/"
        },
        "id": "auZ0UV6JoYr3",
        "outputId": "f223dcd4-f32f-44c2-86c8-0f9432b1dc3b"
      },
      "execution_count": null,
      "outputs": [
        {
          "output_type": "stream",
          "name": "stdout",
          "text": [
            "(298, 92)\n",
            "(298, 58)\n"
          ]
        }
      ]
    },
    {
      "cell_type": "code",
      "source": [
        "print(X_train.columns)"
      ],
      "metadata": {
        "colab": {
          "base_uri": "https://localhost:8080/"
        },
        "id": "9QybDVqCrFTt",
        "outputId": "80b8b92f-5a0f-4eba-d8d5-e3f2797708d5"
      },
      "execution_count": null,
      "outputs": [
        {
          "output_type": "stream",
          "name": "stdout",
          "text": [
            "Index(['android.permission.ACCESS_CACHE_FILESYSTEM',\n",
            "       'android.permission.ACCESS_COARSE_LOCATION',\n",
            "       'android.permission.ACCESS_FINE_LOCATION',\n",
            "       'android.permission.ACCESS_LOCATION_EXTRA_COMMANDS',\n",
            "       'android.permission.ACCESS_MOCK_LOCATION',\n",
            "       'android.permission.ACCESS_NETWORK_STATE',\n",
            "       'android.permission.ACCESS_WIFI_STATE',\n",
            "       'android.permission.ACCESS_WIMAX_STATE',\n",
            "       'android.permission.AUTHENTICATE_ACCOUNTS',\n",
            "       'android.permission.BATTERY_STATS', 'android.permission.BLUETOOTH',\n",
            "       'android.permission.BROADCAST_PACKAGE_REMOVED',\n",
            "       'android.permission.BROADCAST_STICKY', 'android.permission.CALL_PHONE',\n",
            "       'android.permission.CALL_PRIVILEGED', 'android.permission.CAMERA',\n",
            "       'android.permission.CHANGE_COMPONENT_ENABLED_STATE',\n",
            "       'android.permission.CHANGE_CONFIGURATION',\n",
            "       'android.permission.CHANGE_NETWORK_STATE',\n",
            "       'android.permission.CHANGE_WIFI_MULTICAST_STATE',\n",
            "       'android.permission.CHANGE_WIFI_STATE',\n",
            "       'android.permission.CLEAR_APP_CACHE',\n",
            "       'android.permission.DELETE_PACKAGES', 'android.permission.DEVICE_POWER',\n",
            "       'android.permission.DISABLE_KEYGUARD', 'android.permission.DUMP',\n",
            "       'android.permission.EXPAND_STATUS_BAR',\n",
            "       'android.permission.GET_ACCOUNTS',\n",
            "       'android.permission.GET_PACKAGE_SIZE', 'android.permission.GET_TASKS',\n",
            "       'android.permission.INJECT_EVENTS',\n",
            "       'android.permission.INSTALL_PACKAGES', 'android.permission.INTERNET',\n",
            "       'android.permission.KILL_BACKGROUND_PROCESSES',\n",
            "       'android.permission.MANAGE_ACCOUNTS',\n",
            "       'android.permission.MODIFY_AUDIO_SETTINGS',\n",
            "       'android.permission.MOUNT_UNMOUNT_FILESYSTEMS',\n",
            "       'android.permission.NFC', 'android.permission.PROCESS_OUTGOING_CALLS',\n",
            "       'android.permission.READ_CALENDAR', 'android.permission.READ_CALL_LOG',\n",
            "       'android.permission.READ_LOGS', 'android.permission.READ_PHONE_STATE',\n",
            "       'android.permission.READ_SMS',\n",
            "       'android.permission.RECEIVE_BOOT_COMPLETED',\n",
            "       'android.permission.RECORD_AUDIO', 'android.permission.SET_ORIENTATION',\n",
            "       'android.permission.SET_PREFERRED_APPLICATIONS',\n",
            "       'android.permission.SET_WALLPAPER',\n",
            "       'android.permission.SYSTEM_ALERT_WINDOW', 'android.permission.VIBRATE',\n",
            "       'android.permission.WAKE_LOCK',\n",
            "       'android.permission.WRITE_EXTERNAL_STORAGE',\n",
            "       'android.permission.WRITE_SETTINGS',\n",
            "       'com.android.alarm.permission.SET_ALARM',\n",
            "       'com.android.browser.permission.READ_HISTORY_BOOKMARKS',\n",
            "       'com.android.launcher.permission.INSTALL_SHORTCUT',\n",
            "       'com.android.launcher.permission.UNINSTALL_SHORTCUT'],\n",
            "      dtype='object')\n"
          ]
        }
      ]
    },
    {
      "cell_type": "code",
      "source": [
        "dt.drop(columns=[col for col in dt.columns if col in corr_features], inplace=True, errors='raise') \n",
        "dt.dropna(inplace=True)"
      ],
      "metadata": {
        "id": "-5YZGQo_oag_"
      },
      "execution_count": null,
      "outputs": []
    },
    {
      "cell_type": "code",
      "source": [
        "\n",
        "AN = Sequential() #defining the Model\n",
        "AN.add(Dense(256, activation='relu', input_dim=dt.shape[1]-1))#adds a layer (units),specifies the input shape\n",
        "AN.add(Dropout(0.2))#(droput rate) to avoid overfitting \n",
        "AN.add(Dense(128, activation='relu'))\n",
        "AN.add(Dropout(0.2))\n",
        "AN.add(Dense(128, activation='relu'))\n",
        "AN.add(Dropout(0.2))\n",
        "AN.add(Dense(32, activation='relu'))\n",
        "AN.add(Dropout(0.2))\n",
        "AN.add(Dense(1, activation='sigmoid'))#due to binary classification sigmoid function is used.(output layer)\n",
        "\n",
        "AN.compile(optimizer='adam', loss='binary_crossentropy', metrics=['accuracy'])\n",
        "\n",
        "AN.fit(X_train, y_train, epochs=50, batch_size=32)#model training \n",
        "\n",
        "\n",
        "scores = AN.evaluate(X_test, y_test)#check whether the model is best fit for the given problem and corresponding data\n",
        "                    \n",
        "for i in range(len(scores)):\n",
        "  print(\"\\n%s: %.2f%%\" % (AN.metrics_names[i], scores[i]*100))"
      ],
      "metadata": {
        "colab": {
          "base_uri": "https://localhost:8080/"
        },
        "id": "8eT19CgBocew",
        "outputId": "8c04e813-a8f5-44ab-8401-a3e73ff20dad"
      },
      "execution_count": null,
      "outputs": [
        {
          "output_type": "stream",
          "name": "stdout",
          "text": [
            "Epoch 1/50\n",
            "10/10 [==============================] - 1s 4ms/step - loss: 0.6654 - accuracy: 0.6107\n",
            "Epoch 2/50\n",
            "10/10 [==============================] - 0s 4ms/step - loss: 0.5680 - accuracy: 0.6577\n",
            "Epoch 3/50\n",
            "10/10 [==============================] - 0s 5ms/step - loss: 0.4402 - accuracy: 0.8423\n",
            "Epoch 4/50\n",
            "10/10 [==============================] - 0s 4ms/step - loss: 0.3249 - accuracy: 0.9262\n",
            "Epoch 5/50\n",
            "10/10 [==============================] - 0s 4ms/step - loss: 0.1965 - accuracy: 0.9497\n",
            "Epoch 6/50\n",
            "10/10 [==============================] - 0s 4ms/step - loss: 0.1148 - accuracy: 0.9597\n",
            "Epoch 7/50\n",
            "10/10 [==============================] - 0s 6ms/step - loss: 0.1221 - accuracy: 0.9597\n",
            "Epoch 8/50\n",
            "10/10 [==============================] - 0s 4ms/step - loss: 0.0866 - accuracy: 0.9698\n",
            "Epoch 9/50\n",
            "10/10 [==============================] - 0s 4ms/step - loss: 0.0942 - accuracy: 0.9765\n",
            "Epoch 10/50\n",
            "10/10 [==============================] - 0s 4ms/step - loss: 0.1227 - accuracy: 0.9664\n",
            "Epoch 11/50\n",
            "10/10 [==============================] - 0s 4ms/step - loss: 0.0572 - accuracy: 0.9899\n",
            "Epoch 12/50\n",
            "10/10 [==============================] - 0s 5ms/step - loss: 0.0864 - accuracy: 0.9732\n",
            "Epoch 13/50\n",
            "10/10 [==============================] - 0s 5ms/step - loss: 0.0906 - accuracy: 0.9698\n",
            "Epoch 14/50\n",
            "10/10 [==============================] - 0s 4ms/step - loss: 0.0647 - accuracy: 0.9832\n",
            "Epoch 15/50\n",
            "10/10 [==============================] - 0s 4ms/step - loss: 0.0667 - accuracy: 0.9866\n",
            "Epoch 16/50\n",
            "10/10 [==============================] - 0s 4ms/step - loss: 0.0549 - accuracy: 0.9799\n",
            "Epoch 17/50\n",
            "10/10 [==============================] - 0s 4ms/step - loss: 0.0547 - accuracy: 0.9832\n",
            "Epoch 18/50\n",
            "10/10 [==============================] - 0s 4ms/step - loss: 0.0526 - accuracy: 0.9866\n",
            "Epoch 19/50\n",
            "10/10 [==============================] - 0s 4ms/step - loss: 0.0351 - accuracy: 0.9899\n",
            "Epoch 20/50\n",
            "10/10 [==============================] - 0s 4ms/step - loss: 0.0511 - accuracy: 0.9799\n",
            "Epoch 21/50\n",
            "10/10 [==============================] - 0s 4ms/step - loss: 0.0524 - accuracy: 0.9832\n",
            "Epoch 22/50\n",
            "10/10 [==============================] - 0s 4ms/step - loss: 0.0384 - accuracy: 0.9899\n",
            "Epoch 23/50\n",
            "10/10 [==============================] - 0s 4ms/step - loss: 0.0464 - accuracy: 0.9832\n",
            "Epoch 24/50\n",
            "10/10 [==============================] - 0s 4ms/step - loss: 0.0396 - accuracy: 0.9832\n",
            "Epoch 25/50\n",
            "10/10 [==============================] - 0s 4ms/step - loss: 0.0352 - accuracy: 0.9899\n",
            "Epoch 26/50\n",
            "10/10 [==============================] - 0s 5ms/step - loss: 0.0372 - accuracy: 0.9899\n",
            "Epoch 27/50\n",
            "10/10 [==============================] - 0s 5ms/step - loss: 0.0334 - accuracy: 0.9899\n",
            "Epoch 28/50\n",
            "10/10 [==============================] - 0s 4ms/step - loss: 0.0378 - accuracy: 0.9899\n",
            "Epoch 29/50\n",
            "10/10 [==============================] - 0s 4ms/step - loss: 0.0333 - accuracy: 0.9899\n",
            "Epoch 30/50\n",
            "10/10 [==============================] - 0s 4ms/step - loss: 0.0275 - accuracy: 0.9933\n",
            "Epoch 31/50\n",
            "10/10 [==============================] - 0s 4ms/step - loss: 0.0244 - accuracy: 0.9933\n",
            "Epoch 32/50\n",
            "10/10 [==============================] - 0s 4ms/step - loss: 0.0261 - accuracy: 0.9933\n",
            "Epoch 33/50\n",
            "10/10 [==============================] - 0s 5ms/step - loss: 0.0260 - accuracy: 0.9933\n",
            "Epoch 34/50\n",
            "10/10 [==============================] - 0s 4ms/step - loss: 0.0251 - accuracy: 0.9933\n",
            "Epoch 35/50\n",
            "10/10 [==============================] - 0s 4ms/step - loss: 0.0204 - accuracy: 0.9933\n",
            "Epoch 36/50\n",
            "10/10 [==============================] - 0s 4ms/step - loss: 0.0269 - accuracy: 0.9933\n",
            "Epoch 37/50\n",
            "10/10 [==============================] - 0s 4ms/step - loss: 0.0284 - accuracy: 0.9933\n",
            "Epoch 38/50\n",
            "10/10 [==============================] - 0s 4ms/step - loss: 0.0242 - accuracy: 0.9933\n",
            "Epoch 39/50\n",
            "10/10 [==============================] - 0s 4ms/step - loss: 0.0284 - accuracy: 0.9933\n",
            "Epoch 40/50\n",
            "10/10 [==============================] - 0s 4ms/step - loss: 0.0278 - accuracy: 0.9933\n",
            "Epoch 41/50\n",
            "10/10 [==============================] - 0s 4ms/step - loss: 0.0284 - accuracy: 0.9933\n",
            "Epoch 42/50\n",
            "10/10 [==============================] - 0s 5ms/step - loss: 0.0259 - accuracy: 0.9899\n",
            "Epoch 43/50\n",
            "10/10 [==============================] - 0s 4ms/step - loss: 0.0256 - accuracy: 0.9933\n",
            "Epoch 44/50\n",
            "10/10 [==============================] - 0s 4ms/step - loss: 0.0204 - accuracy: 0.9933\n",
            "Epoch 45/50\n",
            "10/10 [==============================] - 0s 5ms/step - loss: 0.0312 - accuracy: 0.9899\n",
            "Epoch 46/50\n",
            "10/10 [==============================] - 0s 4ms/step - loss: 0.0223 - accuracy: 0.9933\n",
            "Epoch 47/50\n",
            "10/10 [==============================] - 0s 4ms/step - loss: 0.0437 - accuracy: 0.9866\n",
            "Epoch 48/50\n",
            "10/10 [==============================] - 0s 4ms/step - loss: 0.0250 - accuracy: 0.9899\n",
            "Epoch 49/50\n",
            "10/10 [==============================] - 0s 4ms/step - loss: 0.0350 - accuracy: 0.9899\n",
            "Epoch 50/50\n",
            "10/10 [==============================] - 0s 5ms/step - loss: 0.0413 - accuracy: 0.9899\n",
            "4/4 [==============================] - 0s 3ms/step - loss: 0.6633 - accuracy: 0.9200\n",
            "\n",
            "loss: 66.33%\n",
            "\n",
            "accuracy: 92.00%\n"
          ]
        }
      ]
    },
    {
      "cell_type": "code",
      "source": [
        "print(len(result))\n",
        "print(X_train.shape)"
      ],
      "metadata": {
        "colab": {
          "base_uri": "https://localhost:8080/"
        },
        "id": "l1FllY7coe9X",
        "outputId": "c7c986e5-1391-499b-cd00-86cb57450b1c"
      },
      "execution_count": null,
      "outputs": [
        {
          "output_type": "stream",
          "name": "stdout",
          "text": [
            "58\n",
            "(298, 58)\n"
          ]
        }
      ]
    },
    {
      "cell_type": "code",
      "source": [
        "from re import M\n",
        "result = np.array(result)\n",
        "result = result.reshape((1,-1))\n",
        "predictedvalue = AN.predict(result)\n",
        "malicious = False\n",
        "if predictedvalue > 0.5:\n",
        "  malicious = True"
      ],
      "metadata": {
        "colab": {
          "base_uri": "https://localhost:8080/"
        },
        "id": "V1nUpf6Tr5B8",
        "outputId": "69716353-0d8a-46fd-b6fb-4144e2fcbde1"
      },
      "execution_count": null,
      "outputs": [
        {
          "output_type": "stream",
          "name": "stdout",
          "text": [
            "1/1 [==============================] - 0s 20ms/step\n"
          ]
        }
      ]
    },
    {
      "cell_type": "code",
      "source": [
        "print(malicious)"
      ],
      "metadata": {
        "colab": {
          "base_uri": "https://localhost:8080/"
        },
        "id": "0nyPAsnjtDZe",
        "outputId": "086e6391-61ce-4330-aa15-98c11b9bc37e"
      },
      "execution_count": null,
      "outputs": [
        {
          "output_type": "stream",
          "name": "stdout",
          "text": [
            "False\n"
          ]
        }
      ]
    },
    {
      "cell_type": "code",
      "source": [
        "AN.save(\"augmented_model.model\")"
      ],
      "metadata": {
        "id": "4RUi-nKQtlms"
      },
      "execution_count": null,
      "outputs": []
    },
    {
      "cell_type": "code",
      "source": [
        "import tensorflow as tf\n",
        "from tensorflow import keras\n",
        "keras_file = \"My_saved_Model.h5\"\n",
        "keras.models.save_model(AN , keras_file)"
      ],
      "metadata": {
        "id": "SQ9tdXX0uhD0"
      },
      "execution_count": null,
      "outputs": []
    },
    {
      "cell_type": "code",
      "source": [
        "My_TFlite_Model = tf.keras.models.load_model('/content/My_saved_Model.h5')\n",
        "converter = tf.lite.TFLiteConverter.from_keras_model(My_TFlite_Model)\n",
        "tflite_model = converter.convert()\n",
        "open(\"My_TFlite_Model.tflite\", \"wb\").write(tflite_model)"
      ],
      "metadata": {
        "colab": {
          "base_uri": "https://localhost:8080/"
        },
        "id": "amyp7SGYvKpf",
        "outputId": "474ac2ab-9277-4c41-c93a-3dd4172895a3"
      },
      "execution_count": null,
      "outputs": [
        {
          "output_type": "execute_result",
          "data": {
            "text/plain": [
              "277584"
            ]
          },
          "metadata": {},
          "execution_count": 152
        }
      ]
    }
  ]
}